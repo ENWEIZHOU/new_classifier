{
 "cells": [
  {
   "cell_type": "code",
   "execution_count": 2,
   "metadata": {},
   "outputs": [
    {
     "data": {
      "text/plain": [
       "array([5., 6., 7., 8., 9.])"
      ]
     },
     "execution_count": 2,
     "metadata": {},
     "output_type": "execute_result"
    }
   ],
   "source": [
    "import numpy as np\n",
    "a=[[ 0, 1, 2, 3, 4], [ 5, 6, 7, 8, 9], [10, 11, 12, 13, 14]]\n",
    "np.average(a, axis=0)"
   ]
  },
  {
   "cell_type": "code",
   "execution_count": 3,
   "metadata": {},
   "outputs": [
    {
     "data": {
      "text/plain": [
       "array([ 2.,  7., 12.])"
      ]
     },
     "execution_count": 3,
     "metadata": {},
     "output_type": "execute_result"
    }
   ],
   "source": [
    "np.average(a, axis=1)"
   ]
  },
  {
   "cell_type": "code",
   "execution_count": 4,
   "metadata": {},
   "outputs": [
    {
     "data": {
      "text/plain": [
       "33"
      ]
     },
     "execution_count": 4,
     "metadata": {},
     "output_type": "execute_result"
    }
   ],
   "source": [
    "1+32//4*4"
   ]
  },
  {
   "cell_type": "code",
   "execution_count": 5,
   "metadata": {},
   "outputs": [
    {
     "name": "stdout",
     "output_type": "stream",
     "text": [
      "573147844013817084101\n"
     ]
    }
   ],
   "source": [
    "def fib(n):\n",
    "    fib=[0,1]\n",
    "    if n>2:\n",
    "        while (len(fib)<n+1):\n",
    "            fib.append(fib[-1]+fib[-2])\n",
    "        print(fib[-1])\n",
    "    else:\n",
    "        print(fib[n-1])\n",
    "fib(101)"
   ]
  },
  {
   "cell_type": "code",
   "execution_count": 6,
   "metadata": {},
   "outputs": [
    {
     "name": "stdout",
     "output_type": "stream",
     "text": [
      "41\n"
     ]
    }
   ],
   "source": [
    "import pandas as pd\n",
    "data=pd.read_json(\"News_Category_Dataset_v2.json\", lines=True)\n",
    "print(len(data['category'].unique()))"
   ]
  },
  {
   "cell_type": "code",
   "execution_count": 7,
   "metadata": {},
   "outputs": [],
   "source": [
    "from gensim import models\n",
    "model = models.KeyedVectors.load_word2vec_format('GoogleNews-vectors-negative300.bin', binary=True)"
   ]
  },
  {
   "cell_type": "code",
   "execution_count": 8,
   "metadata": {},
   "outputs": [
    {
     "name": "stdout",
     "output_type": "stream",
     "text": [
      "0.2335987687110901\n"
     ]
    }
   ],
   "source": [
    "cos_distance = model.distance(\"man\", \"woman\")\n",
    "print(cos_distance)"
   ]
  },
  {
   "cell_type": "code",
   "execution_count": 12,
   "metadata": {
    "scrolled": false
   },
   "outputs": [
    {
     "name": "stdout",
     "output_type": "stream",
     "text": [
      "0.17207388242171384\n"
     ]
    }
   ],
   "source": [
    "import re\n",
    "from nltk.corpus import stopwords\n",
    "from nltk.stem import SnowballStemmer\n",
    "import nltk\n",
    "from gensim.models import Word2Vec\n",
    "from scipy.linalg import norm\n",
    "def compute_doc_vec_single(clean_text):\n",
    "    vec = np.zeros((model.vector_size,), dtype=np.float32)\n",
    "    n = 0\n",
    "    tokenized_clean_text=nltk.word_tokenize(clean_text)\n",
    "#     print(tokenized_clean_text)\n",
    "    for word in tokenized_clean_text:\n",
    "        if word in model:\n",
    "            vec += model[word]\n",
    "            n += 1\n",
    "    if(n==0):\n",
    "        print(\"*****************\")\n",
    "        return (model[\"Hello\"]*0)\n",
    "    else:\n",
    "        return (vec/n)\n",
    "\n",
    "stemmer = SnowballStemmer('english')\n",
    "words = stopwords.words('english')\n",
    "data = {'text':[\"title0: 'National tragedy': Trump begins border wall construction in Unesco reserve.\", \"title1: Trump administration enters new phase for border wall, sets ambitious timetable after securing land\"]}\n",
    "dataFrame = pd.DataFrame(data)\n",
    "dataFrame['cleaned_text']= dataFrame['text'].apply(lambda x:\" \".join([stemmer.stem(i) for i in re.sub(\"[^a-zA-Z]\",\" \",x).split() if i not in words]))\n",
    "# print(dataFrame)\n",
    "s1=dataFrame['cleaned_text'][0]\n",
    "s2=dataFrame['cleaned_text'][1]\n",
    "# print(s1)\n",
    "# print(s2)\n",
    "s1=compute_doc_vec_single(s1)\n",
    "# # print(s1)\n",
    "s2 = compute_doc_vec_single(s2)\n",
    "# print(nltk.word_tokenize(\"Trump administration enters new phase for border wall, sets ambitious timetable after securing land\"))\n",
    "print(1-(np.dot(s1, s2) / (norm(s1) * norm(s2))))"
   ]
  },
  {
   "cell_type": "code",
   "execution_count": null,
   "metadata": {},
   "outputs": [],
   "source": []
  },
  {
   "cell_type": "code",
   "execution_count": null,
   "metadata": {},
   "outputs": [],
   "source": []
  },
  {
   "cell_type": "code",
   "execution_count": null,
   "metadata": {},
   "outputs": [],
   "source": []
  }
 ],
 "metadata": {
  "kernelspec": {
   "display_name": "Python 3",
   "language": "python",
   "name": "python3"
  },
  "language_info": {
   "codemirror_mode": {
    "name": "ipython",
    "version": 3
   },
   "file_extension": ".py",
   "mimetype": "text/x-python",
   "name": "python",
   "nbconvert_exporter": "python",
   "pygments_lexer": "ipython3",
   "version": "3.7.4"
  }
 },
 "nbformat": 4,
 "nbformat_minor": 2
}
